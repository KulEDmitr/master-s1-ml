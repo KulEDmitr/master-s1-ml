{
 "cells": [
  {
   "cell_type": "code",
   "execution_count": 18,
   "id": "86bd3d53-4dff-43ba-95b3-d63c9e3c9b8d",
   "metadata": {
    "id": "86bd3d53-4dff-43ba-95b3-d63c9e3c9b8d"
   },
   "outputs": [],
   "source": [
    "import pandas as pd\n",
    "import matplotlib.pyplot as plt\n",
    "\n",
    "from sklearn.model_selection import train_test_split\n",
    "from sklearn.pipeline import make_pipeline\n",
    "from sklearn.naive_bayes import MultinomialNB\n",
    "from sklearn.ensemble import RandomForestClassifier\n",
    "from sklearn.tree import DecisionTreeClassifier\n",
    "from sklearn.naive_bayes import MultinomialNB\n",
    "from sklearn.tree import plot_tree\n",
    "\n",
    "import seaborn as sn"
   ]
  },
  {
   "cell_type": "code",
   "execution_count": 19,
   "id": "9npgRG0N3UxN",
   "metadata": {
    "colab": {
     "base_uri": "https://localhost:8080/"
    },
    "id": "9npgRG0N3UxN",
    "outputId": "15990d5e-9700-4a50-8c69-d2e9301ea194"
   },
   "outputs": [
    {
     "name": "stdout",
     "output_type": "stream",
     "text": [
      "^C\n",
      "Collecting gdown\n",
      "  Downloading https://files.pythonhosted.org/packages/e7/38/e3393edb5fd157abaa54292f31251f8c2ff739673f535990f8a43e69b9dd/gdown-4.7.1-py3-none-any.whl\n",
      "Requirement already satisfied, skipping upgrade: requests[socks] in c:\\users\\user\\appdata\\roaming\\python\\python37\\site-packages (from gdown) (2.31.0)\n",
      "Collecting tqdm (from gdown)\n",
      "  Downloading https://files.pythonhosted.org/packages/00/e5/f12a80907d0884e6dff9c16d0c0114d81b8cd07dc3ae54c5e962cc83037e/tqdm-4.66.1-py3-none-any.whl (78kB)\n",
      "Requirement already satisfied, skipping upgrade: beautifulsoup4 in c:\\users\\user\\appdata\\local\\programs\\python\\python37\\lib\\site-packages (from gdown) (4.12.2)\n",
      "Requirement already satisfied, skipping upgrade: six in c:\\users\\user\\appdata\\local\\programs\\python\\python37\\lib\\site-packages (from gdown) (1.16.0)\n",
      "Collecting filelock (from gdown)\n",
      "  Downloading https://files.pythonhosted.org/packages/00/45/ec3407adf6f6b5bf867a4462b2b0af27597a26bd3cd6e2534cb6ab029938/filelock-3.12.2-py3-none-any.whl\n",
      "Requirement already satisfied, skipping upgrade: urllib3<3,>=1.21.1 in c:\\users\\user\\appdata\\roaming\\python\\python37\\site-packages (from requests[socks]->gdown) (2.0.7)\n",
      "Requirement already satisfied, skipping upgrade: certifi>=2017.4.17 in c:\\users\\user\\appdata\\roaming\\python\\python37\\site-packages (from requests[socks]->gdown) (2023.11.17)\n",
      "Requirement already satisfied, skipping upgrade: charset-normalizer<4,>=2 in c:\\users\\user\\appdata\\roaming\\python\\python37\\site-packages (from requests[socks]->gdown) (3.3.2)\n",
      "Requirement already satisfied, skipping upgrade: idna<4,>=2.5 in c:\\users\\user\\appdata\\roaming\\python\\python37\\site-packages (from requests[socks]->gdown) (3.6)\n",
      "Collecting PySocks!=1.5.7,>=1.5.6; extra == \"socks\" (from requests[socks]->gdown)\n",
      "  Downloading https://files.pythonhosted.org/packages/8d/59/b4572118e098ac8e46e399a1dd0f2d85403ce8bbaad9ec79373ed6badaf9/PySocks-1.7.1-py3-none-any.whl\n",
      "Requirement already satisfied, skipping upgrade: colorama; platform_system == \"Windows\" in c:\\users\\user\\appdata\\local\\programs\\python\\python37\\lib\\site-packages (from tqdm->gdown) (0.4.6)\n",
      "Requirement already satisfied, skipping upgrade: soupsieve>1.2 in c:\\users\\user\\appdata\\local\\programs\\python\\python37\\lib\\site-packages (from beautifulsoup4->gdown) (2.4.1)\n",
      "Installing collected packages: tqdm, filelock, gdown, PySocks\n",
      "Successfully installed PySocks-1.7.1 filelock-3.12.2 gdown-4.7.1 tqdm-4.66.1\n"
     ]
    },
    {
     "name": "stderr",
     "output_type": "stream",
     "text": [
      "nltk 3.8.1 requires click, which is not installed.\n",
      "You are using pip version 19.0.3, however version 23.3.2 is available.\n",
      "You should consider upgrading via the 'python -m pip install --upgrade pip' command.\n"
     ]
    }
   ],
   "source": [
    "! pip install --upgrade --no-cache-dir gdown"
   ]
  },
  {
   "cell_type": "code",
   "execution_count": 3,
   "id": "tL1yCX_63Ya6",
   "metadata": {
    "colab": {
     "base_uri": "https://localhost:8080/"
    },
    "id": "tL1yCX_63Ya6",
    "outputId": "82519463-6674-4612-868b-1e12a1ddb630"
   },
   "outputs": [
    {
     "name": "stdout",
     "output_type": "stream",
     "text": [
      "Downloading...\n",
      "From: https://drive.google.com/uc?id=16R0g3vPfnf87A7x9H3OfI2zf8lkpEzjI\n",
      "To: /content/test.xlsx\n",
      "100% 112k/112k [00:00<00:00, 52.7MB/s]\n",
      "Downloading...\n",
      "From: https://drive.google.com/uc?id=1j4k-CAfXEId6QytCW01LCdT0CDEHTIbo\n",
      "To: /content/train.xlsx\n",
      "100% 830k/830k [00:00<00:00, 28.1MB/s]\n"
     ]
    }
   ],
   "source": [
    "!gdown 16R0g3vPfnf87A7x9H3OfI2zf8lkpEzjI\n",
    "!gdown 1j4k-CAfXEId6QytCW01LCdT0CDEHTIbo"
   ]
  },
  {
   "cell_type": "code",
   "execution_count": 3,
   "id": "de92be10-5fc2-4fe1-9a05-11ab8350f0f3",
   "metadata": {
    "id": "de92be10-5fc2-4fe1-9a05-11ab8350f0f3"
   },
   "outputs": [],
   "source": [
    "train = pd.read_excel(\"data/train.xlsx\")\n",
    "test  = pd.read_excel(\"data/test.xlsx\")"
   ]
  },
  {
   "cell_type": "markdown",
   "id": "e871d0e5-d36c-473c-b5fe-28ebc92b5257",
   "metadata": {
    "id": "e871d0e5-d36c-473c-b5fe-28ebc92b5257"
   },
   "source": [
    "# Предобработка данных"
   ]
  },
  {
   "cell_type": "code",
   "execution_count": 4,
   "id": "f7c313f6-4cce-4ec7-b2a0-e7a641280198",
   "metadata": {
    "id": "f7c313f6-4cce-4ec7-b2a0-e7a641280198"
   },
   "outputs": [],
   "source": [
    "def collect_data(data):\n",
    "    sent, em = [], []\n",
    "    for i in range(len(data)):\n",
    "        raw = data[\"column\"][i].split(\";\")\n",
    "        sent.append(raw[0])\n",
    "        em.append(raw[1])\n",
    "\n",
    "    dic = {\"Sent\":sent, \"Em\":em}\n",
    "    df_raw = pd.DataFrame(dic, dtype=str)\n",
    "    return df_raw"
   ]
  },
  {
   "cell_type": "code",
   "execution_count": 5,
   "id": "f7781b5c-5f76-4164-a947-32d1d90e5564",
   "metadata": {
    "colab": {
     "base_uri": "https://localhost:8080/",
     "height": 175
    },
    "id": "f7781b5c-5f76-4164-a947-32d1d90e5564",
    "outputId": "27115daf-52e9-41b5-b148-4994a9699fed"
   },
   "outputs": [
    {
     "data": {
      "text/html": [
       "<div>\n",
       "<style scoped>\n",
       "    .dataframe tbody tr th:only-of-type {\n",
       "        vertical-align: middle;\n",
       "    }\n",
       "\n",
       "    .dataframe tbody tr th {\n",
       "        vertical-align: top;\n",
       "    }\n",
       "\n",
       "    .dataframe thead th {\n",
       "        text-align: right;\n",
       "    }\n",
       "</style>\n",
       "<table border=\"1\" class=\"dataframe\">\n",
       "  <thead>\n",
       "    <tr style=\"text-align: right;\">\n",
       "      <th></th>\n",
       "      <th>Sent</th>\n",
       "      <th>Em</th>\n",
       "    </tr>\n",
       "  </thead>\n",
       "  <tbody>\n",
       "    <tr>\n",
       "      <th>8763</th>\n",
       "      <td>i have reason to wonder to be confused to feel...</td>\n",
       "      <td>anger</td>\n",
       "    </tr>\n",
       "    <tr>\n",
       "      <th>520</th>\n",
       "      <td>i really lose a lot of my nesting homemaking i...</td>\n",
       "      <td>joy</td>\n",
       "    </tr>\n",
       "    <tr>\n",
       "      <th>7108</th>\n",
       "      <td>i feel excuse the messy thoughts i cant wait t...</td>\n",
       "      <td>sadness</td>\n",
       "    </tr>\n",
       "    <tr>\n",
       "      <th>3074</th>\n",
       "      <td>i feel thank you everyone for the amazing thou...</td>\n",
       "      <td>joy</td>\n",
       "    </tr>\n",
       "  </tbody>\n",
       "</table>\n",
       "</div>"
      ],
      "text/plain": [
       "                                                   Sent       Em\n",
       "8763  i have reason to wonder to be confused to feel...    anger\n",
       "520   i really lose a lot of my nesting homemaking i...      joy\n",
       "7108  i feel excuse the messy thoughts i cant wait t...  sadness\n",
       "3074  i feel thank you everyone for the amazing thou...      joy"
      ]
     },
     "execution_count": 5,
     "metadata": {},
     "output_type": "execute_result"
    }
   ],
   "source": [
    "df_train_raw = collect_data(train)\n",
    "df_test_raw = collect_data(test)\n",
    "df_raw = pd.concat([df_train_raw, df_test_raw], ignore_index=True, sort=False)\n",
    "df_raw.sample(4, random_state=18)"
   ]
  },
  {
   "cell_type": "code",
   "execution_count": 6,
   "id": "66722203-e7e8-49fc-92b6-e854cc40696f",
   "metadata": {
    "colab": {
     "base_uri": "https://localhost:8080/"
    },
    "id": "66722203-e7e8-49fc-92b6-e854cc40696f",
    "outputId": "64c85ce7-0715-41c3-f110-80d10c7813dc"
   },
   "outputs": [
    {
     "data": {
      "text/plain": [
       "Sent    0\n",
       "Em      0\n",
       "dtype: int64"
      ]
     },
     "execution_count": 6,
     "metadata": {},
     "output_type": "execute_result"
    }
   ],
   "source": [
    "pd.isnull(df_raw).sum()"
   ]
  },
  {
   "cell_type": "code",
   "execution_count": 7,
   "id": "lPckwgoyG4ce",
   "metadata": {
    "colab": {
     "base_uri": "https://localhost:8080/",
     "height": 310
    },
    "id": "lPckwgoyG4ce",
    "outputId": "fe046f7c-9e41-4590-c18d-8898b7e58c8d"
   },
   "outputs": [
    {
     "data": {
      "text/plain": [
       "<AxesSubplot:ylabel='Em'>"
      ]
     },
     "execution_count": 7,
     "metadata": {},
     "output_type": "execute_result"
    },
    {
     "data": {
      "image/png": "[encoded data removed]",
      "text/plain": [
       "<Figure size 1200x300 with 1 Axes>"
      ]
     },
     "metadata": {},
     "output_type": "display_data"
    }
   ],
   "source": [
    "keys = df_raw.groupby(by=['Em']).agg(count=('Em', 'count'))\n",
    "bar = keys.sort_values(by='count', ascending=False).plot(\n",
    "    kind='barh',\n",
    "    label=\"Number of emoution in messages\",\n",
    "    legend=True,\n",
    "    grid=True,\n",
    "    figsize=(12,3),\n",
    ")\n",
    "\n",
    "bar.bar_label(bar.containers[0])\n",
    "bar"
   ]
  },
  {
   "cell_type": "code",
   "execution_count": 9,
   "id": "x96bNWca698j",
   "metadata": {
    "id": "x96bNWca698j"
   },
   "outputs": [],
   "source": [
    "import requests\n",
    "import nltk\n",
    "from nltk.corpus import stopwords\n",
    "from nltk.tokenize import word_tokenize\n",
    "from nltk.stem.snowball import SnowballStemmer\n",
    "from string import punctuation\n",
    "\n",
    "from sklearn.feature_extraction.text import TfidfVectorizer\n",
    "from sklearn.feature_extraction.text import CountVectorizer"
   ]
  },
  {
   "cell_type": "code",
   "execution_count": 10,
   "id": "22f37aa2-59ab-4453-a919-c74698ac5a8e",
   "metadata": {
    "colab": {
     "base_uri": "https://localhost:8080/"
    },
    "id": "22f37aa2-59ab-4453-a919-c74698ac5a8e",
    "outputId": "829d8c18-2fcc-4829-b254-87c00b088d4c"
   },
   "outputs": [
    {
     "name": "stderr",
     "output_type": "stream",
     "text": [
      "[nltk_data] Downloading package punkt to\n",
      "[nltk_data]     C:\\Users\\User\\AppData\\Roaming\\nltk_data...\n",
      "[nltk_data]   Package punkt is already up-to-date!\n",
      "[nltk_data] Downloading package stopwords to\n",
      "[nltk_data]     C:\\Users\\User\\AppData\\Roaming\\nltk_data...\n",
      "[nltk_data]   Package stopwords is already up-to-date!\n"
     ]
    }
   ],
   "source": [
    "nltk.download('punkt')\n",
    "nltk.download('stopwords')\n",
    "stop_en = stopwords.words('english')\n",
    "stemmer_en = SnowballStemmer(\"english\")\n",
    "punctuation = punctuation + \"“”—’\""
   ]
  },
  {
   "cell_type": "code",
   "execution_count": 164,
   "id": "DyP-9mMOgjW6",
   "metadata": {
    "id": "DyP-9mMOgjW6"
   },
   "outputs": [],
   "source": [
    "# yandex_api_base = \"https://speller.yandex.net/services/spellservice.json\"\n",
    "# check_text_suffix = \"/checkText?text=\"\n",
    "\n",
    "# def fix_typo_word(uncorrect_word):\n",
    "#    req = requests.get(yandex_api_base + check_text_suffix + uncorrect_word)\n",
    "#    if (req):\n",
    "#       if (len(req.json()) > 0):\n",
    "#         return req.json()[0]['s'][0]\n",
    "#       return uncorrect_word\n",
    "\n",
    "# def fix_typo_sentence(uncorrect_sent):\n",
    "#     req = requests.get(yandex_api_base + check_text_suffix + uncorrect_sent)\n",
    "#     if (req):\n",
    "#         if (len(req.json()) > 0):\n",
    "#             return req.json()[0]['s'][0]\n",
    "#         return uncorrect_sent"
   ]
  },
  {
   "cell_type": "code",
   "execution_count": 20,
   "id": "b9c88cc3-94c2-440f-8437-5df3a9424533",
   "metadata": {
    "id": "b9c88cc3-94c2-440f-8437-5df3a9424533"
   },
   "outputs": [],
   "source": [
    "def get_lower_tokenized(x):\n",
    "    # tokenized = word_tokenize(fix_typo_sentence(x))\n",
    "    tokenized = word_tokenize(x)\n",
    "    lower_words = [word.lower() for word in tokenized if not word in punctuation]\n",
    "    return lower_words\n",
    "\n",
    "def get_wsw_nltk(x):\n",
    "    return [word for word in x if not word in stop_en]\n",
    "\n",
    "def get_stemmed(x):\n",
    "    return [stemmer_en.stem(word) for word in x]\n",
    "\n",
    "def concat(x):\n",
    "    return ' '.join(x)\n",
    "\n",
    "\n",
    "def prepare(df_raw):\n",
    "    step1 = pd.DataFrame(df_raw.Sent.apply(lambda x: get_lower_tokenized(x)))\n",
    "    step1.rename(columns={'Sent': 'tokenized'}, inplace=True)\n",
    "\n",
    "    crit1 = pd.DataFrame(step1.tokenized.apply(lambda x: get_stemmed(x)))\n",
    "    crit2 = pd.DataFrame(crit1.tokenized.apply(lambda x: concat(x)))\n",
    "\n",
    "    crit3 = pd.DataFrame(step1.tokenized.apply(lambda x: get_stemmed(get_wsw_nltk(x))))\n",
    "    crit4 = pd.DataFrame(crit3.tokenized.apply(lambda x: concat(x)))\n",
    "\n",
    "    crit1.rename(columns={'tokenized': 'tokenized_stemmed'}, inplace=True)\n",
    "    crit2.rename(columns={'tokenized': 'stemmed'}, inplace=True)\n",
    "\n",
    "    crit3.rename(columns={'tokenized': 'tokenized_wsw_stemmed'}, inplace=True)\n",
    "    crit4.rename(columns={'tokenized': 'wsw_stemmed'}, inplace=True)\n",
    "\n",
    "    df = pd.concat([df_raw, crit1, crit2, crit3, crit4], axis=1)\n",
    "    return df"
   ]
  },
  {
   "cell_type": "code",
   "execution_count": 21,
   "id": "cSfMLwKkCbGZ",
   "metadata": {
    "colab": {
     "base_uri": "https://localhost:8080/",
     "height": 244
    },
    "id": "cSfMLwKkCbGZ",
    "outputId": "bf576882-9f68-44fe-8947-367f807ab05c"
   },
   "outputs": [
    {
     "data": {
      "text/html": [
       "<div>\n",
       "<style scoped>\n",
       "    .dataframe tbody tr th:only-of-type {\n",
       "        vertical-align: middle;\n",
       "    }\n",
       "\n",
       "    .dataframe tbody tr th {\n",
       "        vertical-align: top;\n",
       "    }\n",
       "\n",
       "    .dataframe thead th {\n",
       "        text-align: right;\n",
       "    }\n",
       "</style>\n",
       "<table border=\"1\" class=\"dataframe\">\n",
       "  <thead>\n",
       "    <tr style=\"text-align: right;\">\n",
       "      <th></th>\n",
       "      <th>Sent</th>\n",
       "      <th>Em</th>\n",
       "      <th>tokenized_stemmed</th>\n",
       "      <th>stemmed</th>\n",
       "      <th>tokenized_wsw_stemmed</th>\n",
       "      <th>wsw_stemmed</th>\n",
       "    </tr>\n",
       "  </thead>\n",
       "  <tbody>\n",
       "    <tr>\n",
       "      <th>8763</th>\n",
       "      <td>i have reason to wonder to be confused to feel...</td>\n",
       "      <td>anger</td>\n",
       "      <td>[i, have, reason, to, wonder, to, be, confus, ...</td>\n",
       "      <td>i have reason to wonder to be confus to feel a...</td>\n",
       "      <td>[reason, wonder, confus, feel, anger, say, you...</td>\n",
       "      <td>reason wonder confus feel anger say your selfi...</td>\n",
       "    </tr>\n",
       "    <tr>\n",
       "      <th>520</th>\n",
       "      <td>i really lose a lot of my nesting homemaking i...</td>\n",
       "      <td>joy</td>\n",
       "      <td>[i, realli, lose, a, lot, of, my, nest, homema...</td>\n",
       "      <td>i realli lose a lot of my nest homemak instinc...</td>\n",
       "      <td>[realli, lose, lot, nest, homemak, instinct, d...</td>\n",
       "      <td>realli lose lot nest homemak instinct desir pr...</td>\n",
       "    </tr>\n",
       "    <tr>\n",
       "      <th>7108</th>\n",
       "      <td>i feel excuse the messy thoughts i cant wait t...</td>\n",
       "      <td>sadness</td>\n",
       "      <td>[i, feel, excus, the, messi, thought, i, cant,...</td>\n",
       "      <td>i feel excus the messi thought i cant wait to ...</td>\n",
       "      <td>[feel, excus, messi, thought, cant, wait, make...</td>\n",
       "      <td>feel excus messi thought cant wait make new fr...</td>\n",
       "    </tr>\n",
       "    <tr>\n",
       "      <th>3074</th>\n",
       "      <td>i feel thank you everyone for the amazing thou...</td>\n",
       "      <td>joy</td>\n",
       "      <td>[i, feel, thank, you, everyon, for, the, amaz,...</td>\n",
       "      <td>i feel thank you everyon for the amaz thought ...</td>\n",
       "      <td>[feel, thank, everyon, amaz, thought, prayer]</td>\n",
       "      <td>feel thank everyon amaz thought prayer</td>\n",
       "    </tr>\n",
       "  </tbody>\n",
       "</table>\n",
       "</div>"
      ],
      "text/plain": [
       "                                                   Sent       Em  \\\n",
       "8763  i have reason to wonder to be confused to feel...    anger   \n",
       "520   i really lose a lot of my nesting homemaking i...      joy   \n",
       "7108  i feel excuse the messy thoughts i cant wait t...  sadness   \n",
       "3074  i feel thank you everyone for the amazing thou...      joy   \n",
       "\n",
       "                                      tokenized_stemmed  \\\n",
       "8763  [i, have, reason, to, wonder, to, be, confus, ...   \n",
       "520   [i, realli, lose, a, lot, of, my, nest, homema...   \n",
       "7108  [i, feel, excus, the, messi, thought, i, cant,...   \n",
       "3074  [i, feel, thank, you, everyon, for, the, amaz,...   \n",
       "\n",
       "                                                stemmed  \\\n",
       "8763  i have reason to wonder to be confus to feel a...   \n",
       "520   i realli lose a lot of my nest homemak instinc...   \n",
       "7108  i feel excus the messi thought i cant wait to ...   \n",
       "3074  i feel thank you everyon for the amaz thought ...   \n",
       "\n",
       "                                  tokenized_wsw_stemmed  \\\n",
       "8763  [reason, wonder, confus, feel, anger, say, you...   \n",
       "520   [realli, lose, lot, nest, homemak, instinct, d...   \n",
       "7108  [feel, excus, messi, thought, cant, wait, make...   \n",
       "3074      [feel, thank, everyon, amaz, thought, prayer]   \n",
       "\n",
       "                                            wsw_stemmed  \n",
       "8763  reason wonder confus feel anger say your selfi...  \n",
       "520   realli lose lot nest homemak instinct desir pr...  \n",
       "7108  feel excus messi thought cant wait make new fr...  \n",
       "3074             feel thank everyon amaz thought prayer  "
      ]
     },
     "execution_count": 21,
     "metadata": {},
     "output_type": "execute_result"
    }
   ],
   "source": [
    "df = prepare(df_raw)\n",
    "df.sample(4, random_state=18)"
   ]
  },
  {
   "cell_type": "code",
   "execution_count": 22,
   "id": "k1IaV7HbF_hP",
   "metadata": {
    "id": "k1IaV7HbF_hP"
   },
   "outputs": [],
   "source": [
    "def vectorising(vectorizer, df, fit_column, key_column=\"Em\", bound=12000):\n",
    "   X_vect = vectorizer.fit_transform(df[fit_column])\n",
    "   x_train, y_train, x_test, y_test = X_vect[:bound], df[key_column][:bound], X_vect[bound:], df[key_column][bound:]\n",
    "   return x_train, y_train, x_test, y_test"
   ]
  },
  {
   "cell_type": "code",
   "execution_count": 23,
   "id": "N_ZxsmAQGINn",
   "metadata": {
    "id": "N_ZxsmAQGINn"
   },
   "outputs": [],
   "source": [
    "count_vect = CountVectorizer()\n",
    "tfidf_vect = TfidfVectorizer()"
   ]
  },
  {
   "cell_type": "code",
   "execution_count": 24,
   "id": "5847628e-94fa-48c9-82e5-79782f7466d9",
   "metadata": {
    "id": "5847628e-94fa-48c9-82e5-79782f7466d9"
   },
   "outputs": [],
   "source": [
    "x_train_1, y_train_1, x_test_1, y_test_1 = vectorising(count_vect, df, \"Sent\")\n",
    "x_train_2, y_train_2, x_test_2, y_test_2 = vectorising(tfidf_vect, df, \"Sent\")\n",
    "\n",
    "x_train_3, y_train_3, x_test_3, y_test_3 = vectorising(count_vect, df, \"wsw_stemmed\")\n",
    "x_train_4, y_train_4, x_test_4, y_test_4 = vectorising(tfidf_vect, df, \"wsw_stemmed\")"
   ]
  },
  {
   "cell_type": "markdown",
   "id": "10fb1b65-e956-4a9f-9e0f-65f8146b821f",
   "metadata": {
    "id": "10fb1b65-e956-4a9f-9e0f-65f8146b821f"
   },
   "source": [
    "# Обучение моделий"
   ]
  },
  {
   "cell_type": "code",
   "execution_count": 25,
   "id": "7a4cf10d-b74c-4982-9f0f-b73d9e115ac9",
   "metadata": {
    "id": "7a4cf10d-b74c-4982-9f0f-b73d9e115ac9"
   },
   "outputs": [],
   "source": [
    "model1 = MultinomialNB()\n",
    "model1.fit(x_train_1, y_train_1)\n",
    "nb1 = model1.predict(x_test_1)"
   ]
  },
  {
   "cell_type": "code",
   "execution_count": 26,
   "id": "a6e043db-944c-46f6-8f7b-3a9a5ec39f2e",
   "metadata": {
    "id": "a6e043db-944c-46f6-8f7b-3a9a5ec39f2e"
   },
   "outputs": [],
   "source": [
    "model2 = MultinomialNB()\n",
    "model2.fit(x_train_2, y_train_2)\n",
    "nb2 = model2.predict(x_test_2)"
   ]
  },
  {
   "cell_type": "code",
   "execution_count": 27,
   "id": "54b6a28a-cec7-42f8-afbe-7a4ad7e4337c",
   "metadata": {
    "id": "54b6a28a-cec7-42f8-afbe-7a4ad7e4337c"
   },
   "outputs": [],
   "source": [
    "tree1 = DecisionTreeClassifier(random_state=343)\n",
    "tree1.fit(x_train_1, y_train_1)\n",
    "t_predict1 = tree1.predict(x_test_1)"
   ]
  },
  {
   "cell_type": "code",
   "execution_count": 28,
   "id": "8f3dfab9-1dd2-4b55-9e22-6f88254d8d02",
   "metadata": {
    "id": "8f3dfab9-1dd2-4b55-9e22-6f88254d8d02"
   },
   "outputs": [],
   "source": [
    "tree2 = DecisionTreeClassifier(random_state=343)\n",
    "tree2.fit(x_train_2, y_train_2)\n",
    "t_predict2 = tree2.predict(x_test_2)"
   ]
  },
  {
   "cell_type": "code",
   "execution_count": 29,
   "id": "7857d65d-df98-4aba-946e-e774af3b132c",
   "metadata": {
    "id": "7857d65d-df98-4aba-946e-e774af3b132c"
   },
   "outputs": [],
   "source": [
    "tree3 = DecisionTreeClassifier(random_state=343)\n",
    "tree3.fit(x_train_3, y_train_3)\n",
    "t_predict3 = tree3.predict(x_test_3)"
   ]
  },
  {
   "cell_type": "code",
   "execution_count": 30,
   "id": "a2f21b38-44c5-48b3-93c1-2aa42a610f9a",
   "metadata": {
    "id": "a2f21b38-44c5-48b3-93c1-2aa42a610f9a"
   },
   "outputs": [],
   "source": [
    "tree4 = DecisionTreeClassifier(random_state=343)\n",
    "tree4.fit(x_train_4, y_train_4)\n",
    "t_predict4 = tree4.predict(x_test_4)"
   ]
  },
  {
   "cell_type": "markdown",
   "id": "b4f2fd98-d4b5-46ca-8f02-b2a2202a061c",
   "metadata": {
    "id": "b4f2fd98-d4b5-46ca-8f02-b2a2202a061c"
   },
   "source": [
    "# Визуализация результатов"
   ]
  },
  {
   "cell_type": "code",
   "execution_count": 31,
   "id": "-wCaMBht63H9",
   "metadata": {
    "id": "-wCaMBht63H9"
   },
   "outputs": [],
   "source": [
    "from sklearn.metrics import confusion_matrix\n",
    "from sklearn.metrics import classification_report\n",
    "from sklearn.metrics import balanced_accuracy_score\n",
    "from sklearn.metrics import precision_recall_fscore_support"
   ]
  },
  {
   "cell_type": "markdown",
   "id": "onLrokTkOeil",
   "metadata": {
    "id": "onLrokTkOeil"
   },
   "source": [
    "\n",
    "\n",
    "*   Balanced Accuracy Score returns an average recall of each class in classification problem. It's useful to deal with imbalanced datasets.\n",
    "*   The precision is the ratio tp / (tp + fp) where tp is the number of true positives and fp the number of false positives. The precision is intuitively the ability of the classifier not to label a negative sample as positive.\n",
    "*   The recall is the ratio tp / (tp + fn) where tp is the number of true positives and fn the number of false negatives. The recall is intuitively the ability of the classifier to find all the positive samples.\n",
    "*   The F-beta score can be interpreted as a weighted harmonic mean of the precision and recall, where an F-beta score reaches its best value at 1 and worst score at 0. The F-beta score weights recall more than precision by a factor of beta. beta == 1.0 means recall and precision are equally important.\n",
    "\n",
    "\n"
   ]
  },
  {
   "cell_type": "code",
   "execution_count": 32,
   "id": "YQx2krAs93CN",
   "metadata": {
    "id": "YQx2krAs93CN"
   },
   "outputs": [],
   "source": [
    "def metrics(y_true, y_pred, message, f_beta=1, average='macro'):\n",
    "  res = precision_recall_fscore_support(y_true, y_pred, beta=f_beta, average=average, zero_division=0)\n",
    "  precision_sc, recall_sc, f_beta_sc = res[0], res[1], res[2]\n",
    "  balanced_accuracy_sc = balanced_accuracy_score(y_true, y_pred)\n",
    "  report = classification_report(y_true, y_pred)\n",
    "  print(message)\n",
    "  print(f'\\tbalanced accuracy score: {balanced_accuracy_sc:.3f}')\n",
    "  print(f'\\tprecision score: {precision_sc:.3f}')\n",
    "  print(f'\\trecall score: {recall_sc:.3f}')\n",
    "  print(f'\\tF-{f_beta} score: {f_beta_sc:.3f}')\n",
    "  #print(report)"
   ]
  },
  {
   "cell_type": "code",
   "execution_count": 33,
   "id": "8IMMvnXWBiyA",
   "metadata": {
    "colab": {
     "base_uri": "https://localhost:8080/"
    },
    "id": "8IMMvnXWBiyA",
    "outputId": "6e1cd812-5c5e-42d5-a450-eaa921dc9c15"
   },
   "outputs": [
    {
     "name": "stdout",
     "output_type": "stream",
     "text": [
      "Naive Bias CountVectorizer\n",
      "\tbalanced accuracy score: 0.512\n",
      "\tprecision score: 0.844\n",
      "\trecall score: 0.512\n",
      "\tF-1 score: 0.540\n"
     ]
    },
    {
     "name": "stderr",
     "output_type": "stream",
     "text": [
      "c:\\users\\user\\appdata\\local\\programs\\python\\python37\\lib\\site-packages\\sklearn\\metrics\\_classification.py:1318: UndefinedMetricWarning: Precision and F-score are ill-defined and being set to 0.0 in labels with no predicted samples. Use `zero_division` parameter to control this behavior.\n",
      "  _warn_prf(average, modifier, msg_start, len(result))\n",
      "c:\\users\\user\\appdata\\local\\programs\\python\\python37\\lib\\site-packages\\sklearn\\metrics\\_classification.py:1318: UndefinedMetricWarning: Precision and F-score are ill-defined and being set to 0.0 in labels with no predicted samples. Use `zero_division` parameter to control this behavior.\n",
      "  _warn_prf(average, modifier, msg_start, len(result))\n",
      "c:\\users\\user\\appdata\\local\\programs\\python\\python37\\lib\\site-packages\\sklearn\\metrics\\_classification.py:1318: UndefinedMetricWarning: Precision and F-score are ill-defined and being set to 0.0 in labels with no predicted samples. Use `zero_division` parameter to control this behavior.\n",
      "  _warn_prf(average, modifier, msg_start, len(result))\n"
     ]
    },
    {
     "name": "stdout",
     "output_type": "stream",
     "text": [
      "Naive Bias TfIdVect\n",
      "\tbalanced accuracy score: 0.353\n",
      "\tprecision score: 0.691\n",
      "\trecall score: 0.353\n",
      "\tF-1 score: 0.324\n",
      "DecisionTreeClassifier CountVectorizer Sent\n",
      "\tbalanced accuracy score: 0.828\n",
      "\tprecision score: 0.814\n",
      "\trecall score: 0.828\n",
      "\tF-1 score: 0.821\n",
      "DecisionTreeClassifier TfIdVect\n",
      "\tbalanced accuracy score: 0.799\n",
      "\tprecision score: 0.797\n",
      "\trecall score: 0.799\n",
      "\tF-1 score: 0.798\n",
      "DecisionTreeClassifier CountVectorizer nltk\n",
      "\tbalanced accuracy score: 0.763\n",
      "\tprecision score: 0.738\n",
      "\trecall score: 0.763\n",
      "\tF-1 score: 0.749\n",
      "DecisionTreeClassifier TfIdVect nltk\n",
      "\tbalanced accuracy score: 0.760\n",
      "\tprecision score: 0.735\n",
      "\trecall score: 0.760\n",
      "\tF-1 score: 0.746\n"
     ]
    }
   ],
   "source": [
    "metrics(y_test_1, nb1, \"Naive Bias CountVectorizer\")\n",
    "metrics(y_test_2, nb2, \"Naive Bias TfIdVect\")\n",
    "metrics(y_test_1, t_predict1, \"DecisionTreeClassifier CountVectorizer Sent\")\n",
    "metrics(y_test_2, t_predict2, \"DecisionTreeClassifier TfIdVect\")\n",
    "metrics(y_test_3, t_predict3, \"DecisionTreeClassifier CountVectorizer nltk\")\n",
    "metrics(y_test_4, t_predict4, \"DecisionTreeClassifier TfIdVect nltk\")"
   ]
  },
  {
   "cell_type": "code",
   "execution_count": 34,
   "id": "3bcb44a0-2fa0-4146-9b2a-4553c40a869c",
   "metadata": {
    "id": "3bcb44a0-2fa0-4146-9b2a-4553c40a869c"
   },
   "outputs": [],
   "source": [
    "def printer(atrue, predict, name=\"\"):\n",
    "    labels = sorted(list(atrue.unique()))\n",
    "    conf   = confusion_matrix(atrue, predict)\n",
    "\n",
    "    plt.title(name)\n",
    "    sn.set(font_scale=1.4) # for label size\n",
    "    ax = sn.heatmap(conf, annot=True, annot_kws={\"size\": 12}) # font size\n",
    "    ax.xaxis.set_ticklabels(labels, fontsize=12)\n",
    "    ax.yaxis.set_ticklabels(labels, fontsize=12)\n",
    "    plt.xlabel(\"predicted\", fontsize = 15)\n",
    "    plt.ylabel(\"true\" , fontsize = 15)\n",
    "    plt.show()"
   ]
  },
  {
   "cell_type": "code",
   "execution_count": 35,
   "id": "23b28406-369c-42a8-b31e-03478ad2ff88",
   "metadata": {
    "id": "23b28406-369c-42a8-b31e-03478ad2ff88",
    "outputId": "e1d29baf-b26e-4c74-ac2e-b0c039c2d4af"
   },
   "outputs": [
    {
     "data": {
      "image/png": "[encoded data removed]",
      "text/plain": [
       "<Figure size 640x480 with 2 Axes>"
      ]
     },
     "metadata": {},
     "output_type": "display_data"
    }
   ],
   "source": [
    "printer( y_test_1, t_predict1, \"DecisionTreeClassifier CountVectorizer Sent\")"
   ]
  },
  {
   "cell_type": "markdown",
   "id": "7c0ad20b-8404-437f-9cc3-8ac5a376d7bf",
   "metadata": {},
   "source": [
    "Подведем итог в этой части: легко заметим, что лучше всех прочих чебя показала модель \n",
    "\"DecisionTreeClassifier CountVectorizer Sent\""
   ]
  },
  {
   "cell_type": "markdown",
   "id": "b39604b9-f051-42ba-b262-d97f94f65903",
   "metadata": {},
   "source": [
    "## Работа с Гиперпараметрами\n",
    "Т.к. DecisionTreeClassifier оказалась оптимальной моделью, давайте переберем различные гиперпараметры в ней и определим, возможно ли улучшить показатели модели."
   ]
  },
  {
   "cell_type": "code",
   "execution_count": 43,
   "id": "b4e387d4-3763-4087-8c64-b8a8bd8cbca0",
   "metadata": {},
   "outputs": [
    {
     "name": "stdout",
     "output_type": "stream",
     "text": [
      "ccp_alpha\n",
      "class_weight\n",
      "criterion\n",
      "max_depth\n",
      "max_features\n",
      "max_leaf_nodes\n",
      "min_impurity_decrease\n",
      "min_samples_leaf\n",
      "min_samples_split\n",
      "min_weight_fraction_leaf\n",
      "random_state\n",
      "splitter\n"
     ]
    }
   ],
   "source": [
    "for parameter in tree1.get_params():\n",
    "    print(parameter)"
   ]
  },
  {
   "cell_type": "markdown",
   "id": "67fcfe50-2bac-4eec-a098-f971b918f49d",
   "metadata": {},
   "source": [
    "Из всех параметров рассмотрим max_depth и max_leaf_nodes"
   ]
  },
  {
   "cell_type": "markdown",
   "id": "b5f3e6af-10d4-435a-b2c6-86c0078f5469",
   "metadata": {},
   "source": [
    "#### Анализ max_depth"
   ]
  },
  {
   "cell_type": "code",
   "execution_count": 86,
   "id": "8e2b5502-ce9b-4ea6-b1d9-21d1ea91c01a",
   "metadata": {},
   "outputs": [],
   "source": [
    "tree1_d15 = DecisionTreeClassifier(random_state=343, max_depth=15)\n",
    "tree1_d15.fit(x_train_1, y_train_1)\n",
    "t_predict1_d15 = tree1_d15.predict(x_test_1)\n",
    "\n",
    "tree1_d100 = DecisionTreeClassifier(random_state=343, max_depth=100)\n",
    "tree1_d100.fit(x_train_1, y_train_1)\n",
    "t_predict1_d100 = tree1_d100.predict(x_test_1)\n",
    "\n",
    "tree1_d200 = DecisionTreeClassifier(random_state=343, max_depth=200)\n",
    "tree1_d200.fit(x_train_1, y_train_1)\n",
    "t_predict1_d200 = tree1_d200.predict(x_test_1)\n",
    "\n",
    "tree1_d300 = DecisionTreeClassifier(random_state=343, max_depth=300)\n",
    "tree1_d300.fit(x_train_1, y_train_1)\n",
    "t_predict1_d300 = tree1_d300.predict(x_test_1)\n",
    "\n",
    "tree1_d400 = DecisionTreeClassifier(random_state=343, max_depth=400)\n",
    "tree1_d400.fit(x_train_1, y_train_1)\n",
    "t_predict1_d400 = tree1_d400.predict(x_test_1)"
   ]
  },
  {
   "cell_type": "code",
   "execution_count": 82,
   "id": "3e95290f-cea8-4173-a03d-3a7856fa3012",
   "metadata": {},
   "outputs": [
    {
     "name": "stdout",
     "output_type": "stream",
     "text": [
      "DecisionTreeClassifier-CV-Sent-depth=15\n",
      "\tbalanced accuracy score: 0.282\n",
      "\tprecision score: 0.548\n",
      "\trecall score: 0.282\n",
      "\tF-1 score: 0.255\n",
      "DecisionTreeClassifier-CV-Sent-depth=100\n",
      "\tbalanced accuracy score: 0.619\n",
      "\tprecision score: 0.712\n",
      "\trecall score: 0.619\n",
      "\tF-1 score: 0.611\n",
      "DecisionTreeClassifier-CV-Sent-depth=200\n",
      "\tbalanced accuracy score: 0.778\n",
      "\tprecision score: 0.808\n",
      "\trecall score: 0.778\n",
      "\tF-1 score: 0.792\n",
      "DecisionTreeClassifier-CV-Sent-depth=300\n",
      "\tbalanced accuracy score: 0.828\n",
      "\tprecision score: 0.814\n",
      "\trecall score: 0.828\n",
      "\tF-1 score: 0.821\n",
      "DecisionTreeClassifier-CV-Sent-depth=400\n",
      "\tbalanced accuracy score: 0.828\n",
      "\tprecision score: 0.814\n",
      "\trecall score: 0.828\n",
      "\tF-1 score: 0.821\n"
     ]
    }
   ],
   "source": [
    "metrics(y_test_1, t_predict1_d15,average=\"macro\", message=\"DecisionTreeClassifier-CV-Sent-depth=15\")\n",
    "metrics(y_test_1, t_predict1_d100,average=\"macro\", message=\"DecisionTreeClassifier-CV-Sent-depth=100\")\n",
    "metrics(y_test_1, t_predict1_d200,average=\"macro\", message=\"DecisionTreeClassifier-CV-Sent-depth=200\")\n",
    "metrics(y_test_1, t_predict1_d300,average=\"macro\", message=\"DecisionTreeClassifier-CV-Sent-depth=300\")\n",
    "metrics(y_test_1, t_predict1_d400,average=\"macro\", message=\"DecisionTreeClassifier-CV-Sent-depth=400\")"
   ]
  },
  {
   "cell_type": "markdown",
   "id": "bf1f07a3-58e4-4ad2-91da-d8bd84ebad7a",
   "metadata": {},
   "source": [
    "Обратим внимание, что при глубине == 300 точность не только больше не растет, но и характеристики сравнялись со значениями модели tree1"
   ]
  },
  {
   "cell_type": "markdown",
   "id": "ffd664b1-7660-4c0f-ad64-5af75aa9616f",
   "metadata": {},
   "source": [
    "#### Анализ max_leaf_nodes"
   ]
  },
  {
   "cell_type": "code",
   "execution_count": 84,
   "id": "f1f616ae-7d35-4506-b175-61d309088f1c",
   "metadata": {},
   "outputs": [],
   "source": [
    "tree1_l15 = DecisionTreeClassifier(random_state=343, max_leaf_nodes=15)\n",
    "tree1_l15.fit(x_train_1, y_train_1)\n",
    "t_predict1_l15 = tree1_l15.predict(x_test_1)\n",
    "\n",
    "tree1_l100 = DecisionTreeClassifier(random_state=343, max_leaf_nodes=100)\n",
    "tree1_l100.fit(x_train_1, y_train_1)\n",
    "t_predict1_l100 = tree1_l100.predict(x_test_1)\n",
    "\n",
    "tree1_l200 = DecisionTreeClassifier(random_state=343, max_leaf_nodes=200)\n",
    "tree1_l200.fit(x_train_1, y_train_1)\n",
    "t_predict1_l200 = tree1_l200.predict(x_test_1)\n",
    "\n",
    "tree1_l300 = DecisionTreeClassifier(random_state=343, max_leaf_nodes=300)\n",
    "tree1_l300.fit(x_train_1, y_train_1)\n",
    "t_predict1_l300 = tree1_l300.predict(x_test_1)\n",
    "\n",
    "tree1_l400 = DecisionTreeClassifier(random_state=343, max_leaf_nodes=400)\n",
    "tree1_l400.fit(x_train_1, y_train_1)\n",
    "t_predict1_l400 = tree1_l400.predict(x_test_1)"
   ]
  },
  {
   "cell_type": "code",
   "execution_count": 88,
   "id": "2ef073ea-f435-41be-9663-fc28b834f2ee",
   "metadata": {},
   "outputs": [
    {
     "name": "stderr",
     "output_type": "stream",
     "text": [
      "c:\\users\\user\\appdata\\local\\programs\\python\\python37\\lib\\site-packages\\sklearn\\metrics\\_classification.py:1318: UndefinedMetricWarning: Precision and F-score are ill-defined and being set to 0.0 in labels with no predicted samples. Use `zero_division` parameter to control this behavior.\n",
      "  _warn_prf(average, modifier, msg_start, len(result))\n",
      "c:\\users\\user\\appdata\\local\\programs\\python\\python37\\lib\\site-packages\\sklearn\\metrics\\_classification.py:1318: UndefinedMetricWarning: Precision and F-score are ill-defined and being set to 0.0 in labels with no predicted samples. Use `zero_division` parameter to control this behavior.\n",
      "  _warn_prf(average, modifier, msg_start, len(result))\n",
      "c:\\users\\user\\appdata\\local\\programs\\python\\python37\\lib\\site-packages\\sklearn\\metrics\\_classification.py:1318: UndefinedMetricWarning: Precision and F-score are ill-defined and being set to 0.0 in labels with no predicted samples. Use `zero_division` parameter to control this behavior.\n",
      "  _warn_prf(average, modifier, msg_start, len(result))\n"
     ]
    },
    {
     "name": "stdout",
     "output_type": "stream",
     "text": [
      "DecisionTreeClassifier-CV-Sent-leaf_nodes=15\n",
      "\tbalanced accuracy score: 0.277\n",
      "\tprecision score: 0.594\n",
      "\trecall score: 0.277\n",
      "\tF-1 score: 0.252\n",
      "DecisionTreeClassifier-CV-Sent-leaf_nodes=100\n",
      "\tbalanced accuracy score: 0.616\n",
      "\tprecision score: 0.747\n",
      "\trecall score: 0.616\n",
      "\tF-1 score: 0.614\n",
      "DecisionTreeClassifier-CV-Sent-leaf_nodes=200\n",
      "\tbalanced accuracy score: 0.776\n",
      "\tprecision score: 0.834\n",
      "\trecall score: 0.776\n",
      "\tF-1 score: 0.800\n",
      "DecisionTreeClassifier-CV-Sent-leaf_nodes=300\n",
      "\tbalanced accuracy score: 0.815\n",
      "\tprecision score: 0.839\n",
      "\trecall score: 0.815\n",
      "\tF-1 score: 0.823\n",
      "DecisionTreeClassifier-CV-Sent-leaf_nodes=400\n",
      "\tbalanced accuracy score: 0.815\n",
      "\tprecision score: 0.839\n",
      "\trecall score: 0.815\n",
      "\tF-1 score: 0.823\n"
     ]
    }
   ],
   "source": [
    "metrics(y_test_1, t_predict1_l15,average=\"macro\", message=\"DecisionTreeClassifier-CV-Sent-leaf_nodes=15\")\n",
    "metrics(y_test_1, t_predict1_l100,average=\"macro\", message=\"DecisionTreeClassifier-CV-Sent-leaf_nodes=100\")\n",
    "metrics(y_test_1, t_predict1_l200,average=\"macro\", message=\"DecisionTreeClassifier-CV-Sent-leaf_nodes=200\")\n",
    "metrics(y_test_1, t_predict1_l300,average=\"macro\", message=\"DecisionTreeClassifier-CV-Sent-leaf_nodes=300\")\n",
    "metrics(y_test_1, t_predict1_l400,average=\"macro\", message=\"DecisionTreeClassifier-CV-Sent-leaf_nodes=400\")"
   ]
  },
  {
   "cell_type": "markdown",
   "id": "8ae0347a-3cca-452d-a6ae-d645fce46628",
   "metadata": {},
   "source": [
    "Обратим внимание, что при глубине == 300 точность не только больше не растет, но часть характеристик стала лучше, а другая хуже tree1"
   ]
  },
  {
   "cell_type": "markdown",
   "id": "091ad1c5-c86d-4053-a796-54377f4f71dc",
   "metadata": {},
   "source": [
    "Воспользуемся преположением, что, возможно, при сочетании отдельных гиперпараметров можно улучшить метрики"
   ]
  },
  {
   "cell_type": "code",
   "execution_count": 96,
   "id": "15ddbc69-4510-4741-8831-74e5d15db591",
   "metadata": {},
   "outputs": [],
   "source": [
    "tree1_l400_d300 = DecisionTreeClassifier(random_state=343, max_leaf_nodes=400, max_depth=300)\n",
    "tree1_l400_d300.fit(x_train_1, y_train_1)\n",
    "t_predict1_l400_d300 = tree1_l400_d300.predict(x_test_1)"
   ]
  },
  {
   "cell_type": "code",
   "execution_count": 100,
   "id": "1d823190-443f-4f1a-b54f-d29ff4078dc2",
   "metadata": {},
   "outputs": [],
   "source": [
    "tree1_l500_d300 = DecisionTreeClassifier(random_state=343, max_leaf_nodes=500, max_depth=300)\n",
    "tree1_l500_d300.fit(x_train_1, y_train_1)\n",
    "t_predict1_l500_d300 = tree1_l500_d300.predict(x_test_1)"
   ]
  },
  {
   "cell_type": "code",
   "execution_count": 107,
   "id": "b69dd037-2be6-42ab-82f0-f3d8dd846a7a",
   "metadata": {},
   "outputs": [
    {
     "name": "stdout",
     "output_type": "stream",
     "text": [
      "DecisionTreeClassifier-CV-Sent-depth=300-leaf=500\n",
      "\tbalanced accuracy score: 0.821\n",
      "\tprecision score: 0.831\n",
      "\trecall score: 0.821\n",
      "\tF-1 score: 0.824\n",
      "DecisionTreeClassifier CountVectorizer Sent\n",
      "\tbalanced accuracy score: 0.828\n",
      "\tprecision score: 0.814\n",
      "\trecall score: 0.828\n",
      "\tF-1 score: 0.821\n"
     ]
    }
   ],
   "source": [
    "metrics(y_test_1, t_predict1_l500_d300,average=\"macro\", \n",
    "        message=\"DecisionTreeClassifier-CV-Sent-depth=300-leaf=500\")\n",
    "metrics(y_test_1, t_predict1, \"DecisionTreeClassifier CountVectorizer Sent\")"
   ]
  },
  {
   "cell_type": "code",
   "execution_count": 123,
   "id": "43cd00d6-c53d-42b2-b239-e3f52f1d4c22",
   "metadata": {},
   "outputs": [
    {
     "name": "stdout",
     "output_type": "stream",
     "text": [
      "DecisionTreeClassifier-CV-Sent-depth=300-leaf=400\n",
      "\tbalanced accuracy score: 0.831\n",
      "\tprecision score: 0.829\n",
      "\trecall score: 0.831\n",
      "\tF-1 score: 0.830\n",
      "DecisionTreeClassifier CountVectorizer Sent\n",
      "\tbalanced accuracy score: 0.828\n",
      "\tprecision score: 0.814\n",
      "\trecall score: 0.828\n",
      "\tF-1 score: 0.821\n"
     ]
    }
   ],
   "source": [
    "metrics(y_test_1, t_predict1_l400_d300,average=\"macro\", \n",
    "        message=\"DecisionTreeClassifier-CV-Sent-depth=300-leaf=400\")\n",
    "metrics(y_test_1, t_predict1, \"DecisionTreeClassifier CountVectorizer Sent\")"
   ]
  },
  {
   "cell_type": "markdown",
   "id": "9f3a52a2-f1a3-4fd8-8370-2f1f51ba563f",
   "metadata": {},
   "source": [
    "Обнаружим, что получили, хоть и незначительный, но выигрышь при настройке гиперпараметров глубины дерева =300 и кол-ве листьев =400. Таким образом можно заключить, что из всех рассмотренных нами моделей наилучшим образом себя повела последняя рассмотренная нами."
   ]
  },
  {
   "cell_type": "markdown",
   "id": "73c1ae82-67e5-4e9d-8a56-ad1c8b78496e",
   "metadata": {},
   "source": [
    "### Вместо P.s.\n",
    "Так же возник интерес в рассмотрении влияния размера выборки показатели модели. Для этого рассмотрим три случая размера тренируемых нами моделей, где размер тренировочной выборки 2000, 8000, 12000"
   ]
  },
  {
   "cell_type": "code",
   "execution_count": 110,
   "id": "14539f9e-0354-46f6-875a-251dffd807e1",
   "metadata": {},
   "outputs": [],
   "source": [
    "x_train_2000, y_train_2000, x_test_2000, y_test_2000 = vectorising(count_vect, df, \"Sent\", bound=2000)\n",
    "x_train_8000, y_train_8000, x_test_8000, y_test_8000 = vectorising(count_vect, df, \"Sent\", bound=8000)\n",
    "x_train_12000, y_train_12000, x_test_12000, y_test_12000 = vectorising(count_vect, df, \"Sent\", bound=12000)"
   ]
  },
  {
   "cell_type": "code",
   "execution_count": 111,
   "id": "ab87fdc9-4ca6-4cbd-b3a3-404ef180b756",
   "metadata": {},
   "outputs": [],
   "source": [
    "tree1_l400_d300_2000 = DecisionTreeClassifier(random_state=343, max_leaf_nodes=400, max_depth=300)\n",
    "tree1_l400_d300_2000.fit(x_train_2000, y_train_2000)\n",
    "t_predict1_l400_d300_2000 = tree1_l400_d300_2000.predict(x_test_2000)"
   ]
  },
  {
   "cell_type": "code",
   "execution_count": 112,
   "id": "cfba37e6-ee1e-4f17-b662-591ea4787391",
   "metadata": {},
   "outputs": [],
   "source": [
    "tree1_l400_d300_8000 = DecisionTreeClassifier(random_state=343, max_leaf_nodes=400, max_depth=300)\n",
    "tree1_l400_d300_8000.fit(x_train_8000, y_train_8000)\n",
    "t_predict1_l400_d300_8000 = tree1_l400_d300_8000.predict(x_test_8000)"
   ]
  },
  {
   "cell_type": "code",
   "execution_count": 116,
   "id": "4ab5d176-f258-41fd-8f83-7bc97bd2922d",
   "metadata": {},
   "outputs": [],
   "source": [
    "tree1_l400_d300_12000 = DecisionTreeClassifier(random_state=343, max_leaf_nodes=400, max_depth=300)\n",
    "tree1_l400_d300_12000.fit(x_train_12000, y_train_12000)\n",
    "t_predict1_l400_d300_12000 = tree1_l400_d300_12000.predict(x_test_12000)"
   ]
  },
  {
   "cell_type": "code",
   "execution_count": 125,
   "id": "be7e54e1-0a24-4356-9fb9-047408a126a6",
   "metadata": {},
   "outputs": [
    {
     "name": "stdout",
     "output_type": "stream",
     "text": [
      "DecisionTreeClassifier-CV-Sent-depth=300-leaf=400-set=2000\n",
      "\tbalanced accuracy score: 0.513\n",
      "\tprecision score: 0.592\n",
      "\trecall score: 0.513\n",
      "\tF-1 score: 0.541\n",
      "DecisionTreeClassifier-CV-Sent-depth=300-leaf=400-set=8000\n",
      "\tbalanced accuracy score: 0.819\n",
      "\tprecision score: 0.817\n",
      "\trecall score: 0.819\n",
      "\tF-1 score: 0.817\n",
      "DecisionTreeClassifier-CV-Sent-depth=300-leaf=400-set=12000\n",
      "\tbalanced accuracy score: 0.831\n",
      "\tprecision score: 0.829\n",
      "\trecall score: 0.831\n",
      "\tF-1 score: 0.830\n"
     ]
    }
   ],
   "source": [
    "metrics(y_test_2000, t_predict1_l400_d300_2000,average=\"macro\", message=\"DecisionTreeClassifier-CV-Sent-depth=300-leaf=400-set=2000\")\n",
    "metrics(y_test_8000, t_predict1_l400_d300_8000,average=\"macro\", \n",
    "        message=\"DecisionTreeClassifier-CV-Sent-depth=300-leaf=400-set=8000\")\n",
    "metrics(y_test_12000, t_predict1_l400_d300_12000,average=\"macro\", message=\"DecisionTreeClassifier-CV-Sent-depth=300-leaf=400-set=12000\")"
   ]
  },
  {
   "cell_type": "markdown",
   "id": "32d57b5e-5530-40d1-b1f9-e9eaf7cc0854",
   "metadata": {},
   "source": [
    "Легко заметить, что при нехватке данных система модель будет вести себя неточно"
   ]
  }
 ],
 "metadata": {
  "colab": {
   "provenance": []
  },
  "kernelspec": {
   "display_name": "Python 3 (ipykernel)",
   "language": "python",
   "name": "python3"
  },
  "language_info": {
   "codemirror_mode": {
    "name": "ipython",
    "version": 3
   },
   "file_extension": ".py",
   "mimetype": "text/x-python",
   "name": "python",
   "nbconvert_exporter": "python",
   "pygments_lexer": "ipython3",
   "version": "3.7.4"
  }
 },
 "nbformat": 4,
 "nbformat_minor": 5
}
